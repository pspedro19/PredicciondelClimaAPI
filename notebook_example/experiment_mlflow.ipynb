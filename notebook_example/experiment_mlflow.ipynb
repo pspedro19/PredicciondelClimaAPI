{
 "cells": [
  {
   "cell_type": "code",
   "execution_count": 3,
   "metadata": {},
   "outputs": [
    {
     "name": "stdout",
     "output_type": "stream",
     "text": [
      "Defaulting to user installation because normal site-packages is not writeable\n",
      "Collecting awswrangler\n",
      "  Downloading awswrangler-3.7.3-py3-none-any.whl.metadata (17 kB)\n",
      "Collecting boto3<2.0.0,>=1.20.32 (from awswrangler)\n",
      "  Downloading boto3-1.34.93-py3-none-any.whl.metadata (6.6 kB)\n",
      "Collecting botocore<2.0.0,>=1.23.32 (from awswrangler)\n",
      "  Downloading botocore-1.34.93-py3-none-any.whl.metadata (5.7 kB)\n",
      "Requirement already satisfied: numpy<2.0,>=1.26 in c:\\users\\pedro\\appdata\\local\\packages\\pythonsoftwarefoundation.python.3.12_qbz5n2kfra8p0\\localcache\\local-packages\\python312\\site-packages (from awswrangler) (1.26.4)\n",
      "Requirement already satisfied: packaging<25.0,>=21.1 in c:\\users\\pedro\\appdata\\local\\packages\\pythonsoftwarefoundation.python.3.12_qbz5n2kfra8p0\\localcache\\local-packages\\python312\\site-packages (from awswrangler) (23.2)\n",
      "Requirement already satisfied: pandas<3.0.0,>=1.2.0 in c:\\users\\pedro\\appdata\\local\\packages\\pythonsoftwarefoundation.python.3.12_qbz5n2kfra8p0\\localcache\\local-packages\\python312\\site-packages (from awswrangler) (2.2.1)\n",
      "Requirement already satisfied: pyarrow>=8.0.0 in c:\\users\\pedro\\appdata\\local\\packages\\pythonsoftwarefoundation.python.3.12_qbz5n2kfra8p0\\localcache\\local-packages\\python312\\site-packages (from awswrangler) (15.0.2)\n",
      "Collecting setuptools (from awswrangler)\n",
      "  Downloading setuptools-69.5.1-py3-none-any.whl.metadata (6.2 kB)\n",
      "Requirement already satisfied: typing-extensions<5.0.0,>=4.4.0 in c:\\users\\pedro\\appdata\\local\\packages\\pythonsoftwarefoundation.python.3.12_qbz5n2kfra8p0\\localcache\\local-packages\\python312\\site-packages (from awswrangler) (4.10.0)\n",
      "Collecting jmespath<2.0.0,>=0.7.1 (from boto3<2.0.0,>=1.20.32->awswrangler)\n",
      "  Downloading jmespath-1.0.1-py3-none-any.whl.metadata (7.6 kB)\n",
      "Collecting s3transfer<0.11.0,>=0.10.0 (from boto3<2.0.0,>=1.20.32->awswrangler)\n",
      "  Downloading s3transfer-0.10.1-py3-none-any.whl.metadata (1.7 kB)\n",
      "Requirement already satisfied: python-dateutil<3.0.0,>=2.1 in c:\\users\\pedro\\appdata\\local\\packages\\pythonsoftwarefoundation.python.3.12_qbz5n2kfra8p0\\localcache\\local-packages\\python312\\site-packages (from botocore<2.0.0,>=1.23.32->awswrangler) (2.9.0.post0)\n",
      "Requirement already satisfied: urllib3!=2.2.0,<3,>=1.25.4 in c:\\users\\pedro\\appdata\\local\\packages\\pythonsoftwarefoundation.python.3.12_qbz5n2kfra8p0\\localcache\\local-packages\\python312\\site-packages (from botocore<2.0.0,>=1.23.32->awswrangler) (2.2.1)\n",
      "Requirement already satisfied: pytz>=2020.1 in c:\\users\\pedro\\appdata\\local\\packages\\pythonsoftwarefoundation.python.3.12_qbz5n2kfra8p0\\localcache\\local-packages\\python312\\site-packages (from pandas<3.0.0,>=1.2.0->awswrangler) (2024.1)\n",
      "Requirement already satisfied: tzdata>=2022.7 in c:\\users\\pedro\\appdata\\local\\packages\\pythonsoftwarefoundation.python.3.12_qbz5n2kfra8p0\\localcache\\local-packages\\python312\\site-packages (from pandas<3.0.0,>=1.2.0->awswrangler) (2024.1)\n",
      "Requirement already satisfied: six>=1.5 in c:\\users\\pedro\\appdata\\local\\packages\\pythonsoftwarefoundation.python.3.12_qbz5n2kfra8p0\\localcache\\local-packages\\python312\\site-packages (from python-dateutil<3.0.0,>=2.1->botocore<2.0.0,>=1.23.32->awswrangler) (1.16.0)\n",
      "Downloading awswrangler-3.7.3-py3-none-any.whl (378 kB)\n",
      "   ---------------------------------------- 0.0/378.2 kB ? eta -:--:--\n",
      "   ------ --------------------------------- 61.4/378.2 kB 1.7 MB/s eta 0:00:01\n",
      "   --------------------- ------------------ 204.8/378.2 kB 2.5 MB/s eta 0:00:01\n",
      "   ------------------------------------- -- 358.4/378.2 kB 2.8 MB/s eta 0:00:01\n",
      "   ---------------------------------------- 378.2/378.2 kB 2.9 MB/s eta 0:00:00\n",
      "Downloading boto3-1.34.93-py3-none-any.whl (139 kB)\n",
      "   ---------------------------------------- 0.0/139.3 kB ? eta -:--:--\n",
      "   ----------------- ---------------------- 61.4/139.3 kB 3.2 MB/s eta 0:00:01\n",
      "   -------------------------------------- - 133.1/139.3 kB 1.6 MB/s eta 0:00:01\n",
      "   ---------------------------------------- 139.3/139.3 kB 1.4 MB/s eta 0:00:00\n",
      "Downloading botocore-1.34.93-py3-none-any.whl (12.2 MB)\n",
      "   ---------------------------------------- 0.0/12.2 MB ? eta -:--:--\n",
      "   ---------------------------------------- 0.1/12.2 MB 2.9 MB/s eta 0:00:05\n",
      "    --------------------------------------- 0.2/12.2 MB 2.8 MB/s eta 0:00:05\n",
      "   - -------------------------------------- 0.4/12.2 MB 2.9 MB/s eta 0:00:05\n",
      "   - -------------------------------------- 0.5/12.2 MB 2.9 MB/s eta 0:00:05\n",
      "   -- ------------------------------------- 0.7/12.2 MB 3.0 MB/s eta 0:00:04\n",
      "   -- ------------------------------------- 0.8/12.2 MB 3.0 MB/s eta 0:00:04\n",
      "   --- ------------------------------------ 0.9/12.2 MB 2.9 MB/s eta 0:00:04\n",
      "   --- ------------------------------------ 1.0/12.2 MB 2.8 MB/s eta 0:00:05\n",
      "   --- ------------------------------------ 1.0/12.2 MB 2.8 MB/s eta 0:00:04\n",
      "   --- ------------------------------------ 1.1/12.2 MB 2.5 MB/s eta 0:00:05\n",
      "   --- ------------------------------------ 1.2/12.2 MB 2.4 MB/s eta 0:00:05\n",
      "   ---- ----------------------------------- 1.2/12.2 MB 2.3 MB/s eta 0:00:05\n",
      "   ---- ----------------------------------- 1.3/12.2 MB 2.3 MB/s eta 0:00:05\n",
      "   ---- ----------------------------------- 1.5/12.2 MB 2.3 MB/s eta 0:00:05\n",
      "   ----- ---------------------------------- 1.6/12.2 MB 2.4 MB/s eta 0:00:05\n",
      "   ----- ---------------------------------- 1.7/12.2 MB 2.4 MB/s eta 0:00:05\n",
      "   ------ --------------------------------- 1.9/12.2 MB 2.4 MB/s eta 0:00:05\n",
      "   ------ --------------------------------- 1.9/12.2 MB 2.4 MB/s eta 0:00:05\n",
      "   ------ --------------------------------- 2.0/12.2 MB 2.3 MB/s eta 0:00:05\n",
      "   ------ --------------------------------- 2.1/12.2 MB 2.3 MB/s eta 0:00:05\n",
      "   ------- -------------------------------- 2.2/12.2 MB 2.3 MB/s eta 0:00:05\n",
      "   ------- -------------------------------- 2.3/12.2 MB 2.3 MB/s eta 0:00:05\n",
      "   -------- ------------------------------- 2.5/12.2 MB 2.4 MB/s eta 0:00:05\n",
      "   -------- ------------------------------- 2.6/12.2 MB 2.4 MB/s eta 0:00:05\n",
      "   --------- ------------------------------ 2.8/12.2 MB 2.4 MB/s eta 0:00:04\n",
      "   --------- ------------------------------ 2.9/12.2 MB 2.4 MB/s eta 0:00:04\n",
      "   --------- ------------------------------ 3.0/12.2 MB 2.5 MB/s eta 0:00:04\n",
      "   ---------- ----------------------------- 3.1/12.2 MB 2.4 MB/s eta 0:00:04\n",
      "   ---------- ----------------------------- 3.2/12.2 MB 2.4 MB/s eta 0:00:04\n",
      "   ---------- ----------------------------- 3.3/12.2 MB 2.4 MB/s eta 0:00:04\n",
      "   ----------- ---------------------------- 3.4/12.2 MB 2.4 MB/s eta 0:00:04\n",
      "   ----------- ---------------------------- 3.5/12.2 MB 2.4 MB/s eta 0:00:04\n",
      "   ----------- ---------------------------- 3.6/12.2 MB 2.4 MB/s eta 0:00:04\n",
      "   ------------ --------------------------- 3.8/12.2 MB 2.4 MB/s eta 0:00:04\n",
      "   ------------ --------------------------- 3.9/12.2 MB 2.4 MB/s eta 0:00:04\n",
      "   ------------- -------------------------- 4.0/12.2 MB 2.4 MB/s eta 0:00:04\n",
      "   ------------- -------------------------- 4.1/12.2 MB 2.4 MB/s eta 0:00:04\n",
      "   ------------- -------------------------- 4.2/12.2 MB 2.4 MB/s eta 0:00:04\n",
      "   -------------- ------------------------- 4.3/12.2 MB 2.5 MB/s eta 0:00:04\n",
      "   -------------- ------------------------- 4.4/12.2 MB 2.4 MB/s eta 0:00:04\n",
      "   --------------- ------------------------ 4.6/12.2 MB 2.4 MB/s eta 0:00:04\n",
      "   --------------- ------------------------ 4.7/12.2 MB 2.5 MB/s eta 0:00:04\n",
      "   --------------- ------------------------ 4.7/12.2 MB 2.4 MB/s eta 0:00:04\n",
      "   --------------- ------------------------ 4.8/12.2 MB 2.4 MB/s eta 0:00:04\n",
      "   --------------- ------------------------ 4.9/12.2 MB 2.4 MB/s eta 0:00:04\n",
      "   ---------------- ----------------------- 5.0/12.2 MB 2.4 MB/s eta 0:00:04\n",
      "   ---------------- ----------------------- 5.0/12.2 MB 2.3 MB/s eta 0:00:04\n",
      "   ---------------- ----------------------- 5.1/12.2 MB 2.3 MB/s eta 0:00:04\n",
      "   ----------------- ---------------------- 5.3/12.2 MB 2.4 MB/s eta 0:00:03\n",
      "   ----------------- ---------------------- 5.4/12.2 MB 2.4 MB/s eta 0:00:03\n",
      "   ----------------- ---------------------- 5.5/12.2 MB 2.4 MB/s eta 0:00:03\n",
      "   ------------------ --------------------- 5.6/12.2 MB 2.4 MB/s eta 0:00:03\n",
      "   ------------------ --------------------- 5.7/12.2 MB 2.4 MB/s eta 0:00:03\n",
      "   ------------------ --------------------- 5.8/12.2 MB 2.3 MB/s eta 0:00:03\n",
      "   ------------------- -------------------- 5.9/12.2 MB 2.3 MB/s eta 0:00:03\n",
      "   ------------------- -------------------- 5.9/12.2 MB 2.3 MB/s eta 0:00:03\n",
      "   ------------------- -------------------- 6.0/12.2 MB 2.3 MB/s eta 0:00:03\n",
      "   -------------------- ------------------- 6.1/12.2 MB 2.3 MB/s eta 0:00:03\n",
      "   -------------------- ------------------- 6.2/12.2 MB 2.3 MB/s eta 0:00:03\n",
      "   -------------------- ------------------- 6.2/12.2 MB 2.3 MB/s eta 0:00:03\n",
      "   -------------------- ------------------- 6.4/12.2 MB 2.3 MB/s eta 0:00:03\n",
      "   --------------------- ------------------ 6.5/12.2 MB 2.3 MB/s eta 0:00:03\n",
      "   --------------------- ------------------ 6.7/12.2 MB 2.3 MB/s eta 0:00:03\n",
      "   ---------------------- ----------------- 6.8/12.2 MB 2.3 MB/s eta 0:00:03\n",
      "   ---------------------- ----------------- 6.9/12.2 MB 2.3 MB/s eta 0:00:03\n",
      "   ---------------------- ----------------- 7.0/12.2 MB 2.3 MB/s eta 0:00:03\n",
      "   ----------------------- ---------------- 7.1/12.2 MB 2.3 MB/s eta 0:00:03\n",
      "   ----------------------- ---------------- 7.2/12.2 MB 2.3 MB/s eta 0:00:03\n",
      "   ------------------------ --------------- 7.4/12.2 MB 2.3 MB/s eta 0:00:03\n",
      "   ------------------------ --------------- 7.4/12.2 MB 2.3 MB/s eta 0:00:03\n",
      "   ------------------------ --------------- 7.5/12.2 MB 2.3 MB/s eta 0:00:03\n",
      "   ------------------------- -------------- 7.6/12.2 MB 2.3 MB/s eta 0:00:02\n",
      "   ------------------------- -------------- 7.7/12.2 MB 2.3 MB/s eta 0:00:02\n",
      "   ------------------------- -------------- 7.8/12.2 MB 2.3 MB/s eta 0:00:02\n",
      "   -------------------------- ------------- 8.0/12.2 MB 2.3 MB/s eta 0:00:02\n",
      "   -------------------------- ------------- 8.1/12.2 MB 2.3 MB/s eta 0:00:02\n",
      "   --------------------------- ------------ 8.3/12.2 MB 2.3 MB/s eta 0:00:02\n",
      "   --------------------------- ------------ 8.4/12.2 MB 2.3 MB/s eta 0:00:02\n",
      "   --------------------------- ------------ 8.5/12.2 MB 2.3 MB/s eta 0:00:02\n",
      "   --------------------------- ------------ 8.5/12.2 MB 2.3 MB/s eta 0:00:02\n",
      "   ---------------------------- ----------- 8.6/12.2 MB 2.3 MB/s eta 0:00:02\n",
      "   ---------------------------- ----------- 8.8/12.2 MB 2.3 MB/s eta 0:00:02\n",
      "   ---------------------------- ----------- 8.8/12.2 MB 2.3 MB/s eta 0:00:02\n",
      "   ----------------------------- ---------- 8.9/12.2 MB 2.3 MB/s eta 0:00:02\n",
      "   ----------------------------- ---------- 9.1/12.2 MB 2.3 MB/s eta 0:00:02\n",
      "   ----------------------------- ---------- 9.1/12.2 MB 2.3 MB/s eta 0:00:02\n",
      "   ------------------------------ --------- 9.2/12.2 MB 2.3 MB/s eta 0:00:02\n",
      "   ------------------------------ --------- 9.3/12.2 MB 2.3 MB/s eta 0:00:02\n",
      "   ------------------------------ --------- 9.4/12.2 MB 2.3 MB/s eta 0:00:02\n",
      "   ------------------------------ --------- 9.4/12.2 MB 2.3 MB/s eta 0:00:02\n",
      "   ------------------------------- -------- 9.5/12.2 MB 2.3 MB/s eta 0:00:02\n",
      "   ------------------------------- -------- 9.6/12.2 MB 2.3 MB/s eta 0:00:02\n",
      "   ------------------------------- -------- 9.6/12.2 MB 2.2 MB/s eta 0:00:02\n",
      "   ------------------------------- -------- 9.7/12.2 MB 2.2 MB/s eta 0:00:02\n",
      "   -------------------------------- ------- 9.8/12.2 MB 2.2 MB/s eta 0:00:02\n",
      "   -------------------------------- ------- 9.9/12.2 MB 2.2 MB/s eta 0:00:02\n",
      "   -------------------------------- ------- 10.0/12.2 MB 2.2 MB/s eta 0:00:01\n",
      "   -------------------------------- ------- 10.0/12.2 MB 2.2 MB/s eta 0:00:01\n",
      "   -------------------------------- ------- 10.1/12.2 MB 2.2 MB/s eta 0:00:01\n",
      "   --------------------------------- ------ 10.1/12.2 MB 2.2 MB/s eta 0:00:01\n",
      "   --------------------------------- ------ 10.1/12.2 MB 2.2 MB/s eta 0:00:01\n",
      "   --------------------------------- ------ 10.2/12.2 MB 2.2 MB/s eta 0:00:01\n",
      "   --------------------------------- ------ 10.3/12.2 MB 2.2 MB/s eta 0:00:01\n",
      "   ---------------------------------- ----- 10.4/12.2 MB 2.2 MB/s eta 0:00:01\n",
      "   ---------------------------------- ----- 10.5/12.2 MB 2.2 MB/s eta 0:00:01\n",
      "   ---------------------------------- ----- 10.6/12.2 MB 2.2 MB/s eta 0:00:01\n",
      "   ----------------------------------- ---- 10.7/12.2 MB 2.2 MB/s eta 0:00:01\n",
      "   ----------------------------------- ---- 10.8/12.2 MB 2.2 MB/s eta 0:00:01\n",
      "   ----------------------------------- ---- 10.9/12.2 MB 2.1 MB/s eta 0:00:01\n",
      "   ------------------------------------ --- 11.0/12.2 MB 2.1 MB/s eta 0:00:01\n",
      "   ------------------------------------ --- 11.1/12.2 MB 2.1 MB/s eta 0:00:01\n",
      "   ------------------------------------ --- 11.2/12.2 MB 2.1 MB/s eta 0:00:01\n",
      "   ------------------------------------ --- 11.3/12.2 MB 2.1 MB/s eta 0:00:01\n",
      "   ------------------------------------ --- 11.3/12.2 MB 2.1 MB/s eta 0:00:01\n",
      "   ------------------------------------- -- 11.3/12.2 MB 2.1 MB/s eta 0:00:01\n",
      "   ------------------------------------- -- 11.3/12.2 MB 2.1 MB/s eta 0:00:01\n",
      "   ------------------------------------- -- 11.3/12.2 MB 2.1 MB/s eta 0:00:01\n",
      "   ------------------------------------- -- 11.3/12.2 MB 2.1 MB/s eta 0:00:01\n",
      "   ------------------------------------- -- 11.3/12.2 MB 2.1 MB/s eta 0:00:01\n",
      "   ------------------------------------- -- 11.3/12.2 MB 2.1 MB/s eta 0:00:01\n",
      "   ------------------------------------- -- 11.3/12.2 MB 2.1 MB/s eta 0:00:01\n",
      "   ------------------------------------- -- 11.3/12.2 MB 2.1 MB/s eta 0:00:01\n",
      "   ------------------------------------- -- 11.3/12.2 MB 2.1 MB/s eta 0:00:01\n",
      "   ------------------------------------- -- 11.3/12.2 MB 2.1 MB/s eta 0:00:01\n",
      "   ------------------------------------- -- 11.3/12.2 MB 2.1 MB/s eta 0:00:01\n",
      "   ------------------------------------- -- 11.3/12.2 MB 2.1 MB/s eta 0:00:01\n",
      "   ------------------------------------- -- 11.3/12.2 MB 2.1 MB/s eta 0:00:01\n",
      "   ------------------------------------- -- 11.3/12.2 MB 2.1 MB/s eta 0:00:01\n",
      "   ------------------------------------- -- 11.3/12.2 MB 2.1 MB/s eta 0:00:01\n",
      "   ------------------------------------- -- 11.4/12.2 MB 1.9 MB/s eta 0:00:01\n",
      "   ------------------------------------- -- 11.4/12.2 MB 1.9 MB/s eta 0:00:01\n",
      "   ------------------------------------- -- 11.4/12.2 MB 1.8 MB/s eta 0:00:01\n",
      "   ------------------------------------- -- 11.5/12.2 MB 1.8 MB/s eta 0:00:01\n",
      "   ------------------------------------- -- 11.5/12.2 MB 1.8 MB/s eta 0:00:01\n",
      "   ------------------------------------- -- 11.5/12.2 MB 1.8 MB/s eta 0:00:01\n",
      "   -------------------------------------- - 11.7/12.2 MB 1.8 MB/s eta 0:00:01\n",
      "   -------------------------------------- - 11.8/12.2 MB 1.8 MB/s eta 0:00:01\n",
      "   ---------------------------------------  11.9/12.2 MB 1.8 MB/s eta 0:00:01\n",
      "   ---------------------------------------  12.0/12.2 MB 1.8 MB/s eta 0:00:01\n",
      "   ---------------------------------------  12.1/12.2 MB 1.8 MB/s eta 0:00:01\n",
      "   ---------------------------------------  12.2/12.2 MB 1.8 MB/s eta 0:00:01\n",
      "   ---------------------------------------  12.2/12.2 MB 1.8 MB/s eta 0:00:01\n",
      "   ---------------------------------------- 12.2/12.2 MB 1.8 MB/s eta 0:00:00\n",
      "Downloading setuptools-69.5.1-py3-none-any.whl (894 kB)\n",
      "   ---------------------------------------- 0.0/894.6 kB ? eta -:--:--\n",
      "   ----- ---------------------------------- 112.6/894.6 kB 3.3 MB/s eta 0:00:01\n",
      "   --------- ------------------------------ 204.8/894.6 kB 2.5 MB/s eta 0:00:01\n",
      "   ------------- -------------------------- 307.2/894.6 kB 3.2 MB/s eta 0:00:01\n",
      "   ------------------ --------------------- 409.6/894.6 kB 2.6 MB/s eta 0:00:01\n",
      "   -------------------------- ------------- 593.9/894.6 kB 2.9 MB/s eta 0:00:01\n",
      "   -------------------------------- ------- 727.0/894.6 kB 2.9 MB/s eta 0:00:01\n",
      "   ------------------------------------ --- 809.0/894.6 kB 2.7 MB/s eta 0:00:01\n",
      "   ---------------------------------------- 894.6/894.6 kB 2.6 MB/s eta 0:00:00\n",
      "Downloading jmespath-1.0.1-py3-none-any.whl (20 kB)\n",
      "Downloading s3transfer-0.10.1-py3-none-any.whl (82 kB)\n",
      "   ---------------------------------------- 0.0/82.2 kB ? eta -:--:--\n",
      "   ---------------------------------------- 82.2/82.2 kB 2.2 MB/s eta 0:00:00\n",
      "Installing collected packages: setuptools, jmespath, botocore, s3transfer, boto3, awswrangler\n",
      "Successfully installed awswrangler-3.7.3 boto3-1.34.93 botocore-1.34.93 jmespath-1.0.1 s3transfer-0.10.1 setuptools-69.5.1\n",
      "Note: you may need to restart the kernel to use updated packages.\n"
     ]
    }
   ],
   "source": [
    "pip install awswrangler"
   ]
  },
  {
   "cell_type": "code",
   "execution_count": 5,
   "metadata": {},
   "outputs": [
    {
     "name": "stdout",
     "output_type": "stream",
     "text": [
      "Defaulting to user installation because normal site-packages is not writeableNote: you may need to restart the kernel to use updated packages.\n",
      "\n",
      "Collecting mlflow\n",
      "  Downloading mlflow-2.12.1-py3-none-any.whl.metadata (29 kB)\n",
      "Collecting Flask<4 (from mlflow)\n",
      "  Downloading flask-3.0.3-py3-none-any.whl.metadata (3.2 kB)\n",
      "Collecting alembic!=1.10.0,<2 (from mlflow)\n",
      "  Downloading alembic-1.13.1-py3-none-any.whl.metadata (7.4 kB)\n",
      "Requirement already satisfied: click<9,>=7.0 in c:\\users\\pedro\\appdata\\local\\packages\\pythonsoftwarefoundation.python.3.12_qbz5n2kfra8p0\\localcache\\local-packages\\python312\\site-packages (from mlflow) (8.1.7)\n",
      "Collecting cloudpickle<4 (from mlflow)\n",
      "  Downloading cloudpickle-3.0.0-py3-none-any.whl.metadata (7.0 kB)\n",
      "Collecting docker<8,>=4.0.0 (from mlflow)\n",
      "  Downloading docker-7.0.0-py3-none-any.whl.metadata (3.5 kB)\n",
      "Collecting entrypoints<1 (from mlflow)\n",
      "  Downloading entrypoints-0.4-py3-none-any.whl.metadata (2.6 kB)\n",
      "Collecting gitpython<4,>=3.1.9 (from mlflow)\n",
      "  Downloading GitPython-3.1.43-py3-none-any.whl.metadata (13 kB)\n",
      "Collecting graphene<4 (from mlflow)\n",
      "  Downloading graphene-3.3-py2.py3-none-any.whl.metadata (7.7 kB)\n",
      "Collecting importlib-metadata!=4.7.0,<8,>=3.7.0 (from mlflow)\n",
      "  Downloading importlib_metadata-7.1.0-py3-none-any.whl.metadata (4.7 kB)\n",
      "Collecting markdown<4,>=3.3 (from mlflow)\n",
      "  Downloading Markdown-3.6-py3-none-any.whl.metadata (7.0 kB)\n",
      "Requirement already satisfied: matplotlib<4 in c:\\users\\pedro\\appdata\\local\\packages\\pythonsoftwarefoundation.python.3.12_qbz5n2kfra8p0\\localcache\\local-packages\\python312\\site-packages (from mlflow) (3.8.3)\n",
      "Requirement already satisfied: numpy<2 in c:\\users\\pedro\\appdata\\local\\packages\\pythonsoftwarefoundation.python.3.12_qbz5n2kfra8p0\\localcache\\local-packages\\python312\\site-packages (from mlflow) (1.26.4)\n",
      "Requirement already satisfied: packaging<25 in c:\\users\\pedro\\appdata\\local\\packages\\pythonsoftwarefoundation.python.3.12_qbz5n2kfra8p0\\localcache\\local-packages\\python312\\site-packages (from mlflow) (23.2)\n",
      "Requirement already satisfied: pandas<3 in c:\\users\\pedro\\appdata\\local\\packages\\pythonsoftwarefoundation.python.3.12_qbz5n2kfra8p0\\localcache\\local-packages\\python312\\site-packages (from mlflow) (2.2.1)\n",
      "Collecting protobuf<6,>=3.12.0 (from mlflow)\n",
      "  Downloading protobuf-5.26.1-cp310-abi3-win_amd64.whl.metadata (592 bytes)\n",
      "Requirement already satisfied: pyarrow<16,>=4.0.0 in c:\\users\\pedro\\appdata\\local\\packages\\pythonsoftwarefoundation.python.3.12_qbz5n2kfra8p0\\localcache\\local-packages\\python312\\site-packages (from mlflow) (15.0.2)\n",
      "Requirement already satisfied: pytz<2025 in c:\\users\\pedro\\appdata\\local\\packages\\pythonsoftwarefoundation.python.3.12_qbz5n2kfra8p0\\localcache\\local-packages\\python312\\site-packages (from mlflow) (2024.1)\n",
      "Requirement already satisfied: pyyaml<7,>=5.1 in c:\\users\\pedro\\appdata\\local\\packages\\pythonsoftwarefoundation.python.3.12_qbz5n2kfra8p0\\localcache\\local-packages\\python312\\site-packages (from mlflow) (6.0.1)\n",
      "Collecting querystring-parser<2 (from mlflow)\n",
      "  Downloading querystring_parser-1.2.4-py2.py3-none-any.whl.metadata (559 bytes)\n",
      "Requirement already satisfied: requests<3,>=2.17.3 in c:\\users\\pedro\\appdata\\local\\packages\\pythonsoftwarefoundation.python.3.12_qbz5n2kfra8p0\\localcache\\local-packages\\python312\\site-packages (from mlflow) (2.31.0)\n",
      "Requirement already satisfied: scikit-learn<2 in c:\\users\\pedro\\appdata\\local\\packages\\pythonsoftwarefoundation.python.3.12_qbz5n2kfra8p0\\localcache\\local-packages\\python312\\site-packages (from mlflow) (1.4.1.post1)\n",
      "Requirement already satisfied: scipy<2 in c:\\users\\pedro\\appdata\\local\\packages\\pythonsoftwarefoundation.python.3.12_qbz5n2kfra8p0\\localcache\\local-packages\\python312\\site-packages (from mlflow) (1.12.0)\n",
      "Requirement already satisfied: sqlalchemy<3,>=1.4.0 in c:\\users\\pedro\\appdata\\local\\packages\\pythonsoftwarefoundation.python.3.12_qbz5n2kfra8p0\\localcache\\local-packages\\python312\\site-packages (from mlflow) (2.0.29)\n",
      "Collecting sqlparse<1,>=0.4.0 (from mlflow)\n",
      "  Downloading sqlparse-0.5.0-py3-none-any.whl.metadata (3.9 kB)\n",
      "Requirement already satisfied: Jinja2<4,>=3.0 in c:\\users\\pedro\\appdata\\local\\packages\\pythonsoftwarefoundation.python.3.12_qbz5n2kfra8p0\\localcache\\local-packages\\python312\\site-packages (from mlflow) (3.1.3)\n",
      "Collecting waitress<4 (from mlflow)\n",
      "  Downloading waitress-3.0.0-py3-none-any.whl.metadata (4.2 kB)\n",
      "Collecting Mako (from alembic!=1.10.0,<2->mlflow)\n",
      "  Downloading Mako-1.3.3-py3-none-any.whl.metadata (2.9 kB)\n",
      "Requirement already satisfied: typing-extensions>=4 in c:\\users\\pedro\\appdata\\local\\packages\\pythonsoftwarefoundation.python.3.12_qbz5n2kfra8p0\\localcache\\local-packages\\python312\\site-packages (from alembic!=1.10.0,<2->mlflow) (4.10.0)\n",
      "Requirement already satisfied: colorama in c:\\users\\pedro\\appdata\\local\\packages\\pythonsoftwarefoundation.python.3.12_qbz5n2kfra8p0\\localcache\\local-packages\\python312\\site-packages (from click<9,>=7.0->mlflow) (0.4.6)\n",
      "Requirement already satisfied: urllib3>=1.26.0 in c:\\users\\pedro\\appdata\\local\\packages\\pythonsoftwarefoundation.python.3.12_qbz5n2kfra8p0\\localcache\\local-packages\\python312\\site-packages (from docker<8,>=4.0.0->mlflow) (2.2.1)\n",
      "Requirement already satisfied: pywin32>=304 in c:\\users\\pedro\\appdata\\local\\packages\\pythonsoftwarefoundation.python.3.12_qbz5n2kfra8p0\\localcache\\local-packages\\python312\\site-packages (from docker<8,>=4.0.0->mlflow) (306)\n",
      "Collecting Werkzeug>=3.0.0 (from Flask<4->mlflow)\n",
      "  Downloading werkzeug-3.0.2-py3-none-any.whl.metadata (4.1 kB)\n",
      "Collecting itsdangerous>=2.1.2 (from Flask<4->mlflow)\n",
      "  Downloading itsdangerous-2.2.0-py3-none-any.whl.metadata (1.9 kB)\n",
      "Collecting blinker>=1.6.2 (from Flask<4->mlflow)\n",
      "  Downloading blinker-1.8.0-py3-none-any.whl.metadata (1.6 kB)\n",
      "Collecting gitdb<5,>=4.0.1 (from gitpython<4,>=3.1.9->mlflow)\n",
      "  Using cached gitdb-4.0.11-py3-none-any.whl.metadata (1.2 kB)\n",
      "Collecting graphql-core<3.3,>=3.1 (from graphene<4->mlflow)\n",
      "  Downloading graphql_core-3.2.3-py3-none-any.whl.metadata (10 kB)\n",
      "Collecting graphql-relay<3.3,>=3.1 (from graphene<4->mlflow)\n",
      "  Downloading graphql_relay-3.2.0-py3-none-any.whl.metadata (12 kB)\n",
      "Collecting aniso8601<10,>=8 (from graphene<4->mlflow)\n",
      "  Downloading aniso8601-9.0.1-py2.py3-none-any.whl.metadata (23 kB)\n",
      "Collecting zipp>=0.5 (from importlib-metadata!=4.7.0,<8,>=3.7.0->mlflow)\n",
      "  Downloading zipp-3.18.1-py3-none-any.whl.metadata (3.5 kB)\n",
      "Requirement already satisfied: MarkupSafe>=2.0 in c:\\users\\pedro\\appdata\\local\\packages\\pythonsoftwarefoundation.python.3.12_qbz5n2kfra8p0\\localcache\\local-packages\\python312\\site-packages (from Jinja2<4,>=3.0->mlflow) (2.1.5)\n",
      "Requirement already satisfied: contourpy>=1.0.1 in c:\\users\\pedro\\appdata\\local\\packages\\pythonsoftwarefoundation.python.3.12_qbz5n2kfra8p0\\localcache\\local-packages\\python312\\site-packages (from matplotlib<4->mlflow) (1.2.1)\n",
      "Requirement already satisfied: cycler>=0.10 in c:\\users\\pedro\\appdata\\local\\packages\\pythonsoftwarefoundation.python.3.12_qbz5n2kfra8p0\\localcache\\local-packages\\python312\\site-packages (from matplotlib<4->mlflow) (0.12.1)\n",
      "Requirement already satisfied: fonttools>=4.22.0 in c:\\users\\pedro\\appdata\\local\\packages\\pythonsoftwarefoundation.python.3.12_qbz5n2kfra8p0\\localcache\\local-packages\\python312\\site-packages (from matplotlib<4->mlflow) (4.50.0)\n",
      "Requirement already satisfied: kiwisolver>=1.3.1 in c:\\users\\pedro\\appdata\\local\\packages\\pythonsoftwarefoundation.python.3.12_qbz5n2kfra8p0\\localcache\\local-packages\\python312\\site-packages (from matplotlib<4->mlflow) (1.4.5)\n",
      "Requirement already satisfied: pillow>=8 in c:\\users\\pedro\\appdata\\local\\packages\\pythonsoftwarefoundation.python.3.12_qbz5n2kfra8p0\\localcache\\local-packages\\python312\\site-packages (from matplotlib<4->mlflow) (10.2.0)\n",
      "Requirement already satisfied: pyparsing>=2.3.1 in c:\\users\\pedro\\appdata\\local\\packages\\pythonsoftwarefoundation.python.3.12_qbz5n2kfra8p0\\localcache\\local-packages\\python312\\site-packages (from matplotlib<4->mlflow) (3.1.2)\n",
      "Requirement already satisfied: python-dateutil>=2.7 in c:\\users\\pedro\\appdata\\local\\packages\\pythonsoftwarefoundation.python.3.12_qbz5n2kfra8p0\\localcache\\local-packages\\python312\\site-packages (from matplotlib<4->mlflow) (2.9.0.post0)\n",
      "Requirement already satisfied: tzdata>=2022.7 in c:\\users\\pedro\\appdata\\local\\packages\\pythonsoftwarefoundation.python.3.12_qbz5n2kfra8p0\\localcache\\local-packages\\python312\\site-packages (from pandas<3->mlflow) (2024.1)\n",
      "Requirement already satisfied: six in c:\\users\\pedro\\appdata\\local\\packages\\pythonsoftwarefoundation.python.3.12_qbz5n2kfra8p0\\localcache\\local-packages\\python312\\site-packages (from querystring-parser<2->mlflow) (1.16.0)\n",
      "Requirement already satisfied: charset-normalizer<4,>=2 in c:\\users\\pedro\\appdata\\local\\packages\\pythonsoftwarefoundation.python.3.12_qbz5n2kfra8p0\\localcache\\local-packages\\python312\\site-packages (from requests<3,>=2.17.3->mlflow) (3.3.2)\n",
      "Requirement already satisfied: idna<4,>=2.5 in c:\\users\\pedro\\appdata\\local\\packages\\pythonsoftwarefoundation.python.3.12_qbz5n2kfra8p0\\localcache\\local-packages\\python312\\site-packages (from requests<3,>=2.17.3->mlflow) (3.6)\n",
      "Requirement already satisfied: certifi>=2017.4.17 in c:\\users\\pedro\\appdata\\local\\packages\\pythonsoftwarefoundation.python.3.12_qbz5n2kfra8p0\\localcache\\local-packages\\python312\\site-packages (from requests<3,>=2.17.3->mlflow) (2024.2.2)\n",
      "Requirement already satisfied: joblib>=1.2.0 in c:\\users\\pedro\\appdata\\local\\packages\\pythonsoftwarefoundation.python.3.12_qbz5n2kfra8p0\\localcache\\local-packages\\python312\\site-packages (from scikit-learn<2->mlflow) (1.3.2)\n",
      "Requirement already satisfied: threadpoolctl>=2.0.0 in c:\\users\\pedro\\appdata\\local\\packages\\pythonsoftwarefoundation.python.3.12_qbz5n2kfra8p0\\localcache\\local-packages\\python312\\site-packages (from scikit-learn<2->mlflow) (3.4.0)\n",
      "Requirement already satisfied: greenlet!=0.4.17 in c:\\users\\pedro\\appdata\\local\\packages\\pythonsoftwarefoundation.python.3.12_qbz5n2kfra8p0\\localcache\\local-packages\\python312\\site-packages (from sqlalchemy<3,>=1.4.0->mlflow) (3.0.3)\n",
      "Collecting smmap<6,>=3.0.1 (from gitdb<5,>=4.0.1->gitpython<4,>=3.1.9->mlflow)\n",
      "  Using cached smmap-5.0.1-py3-none-any.whl.metadata (4.3 kB)\n",
      "Downloading mlflow-2.12.1-py3-none-any.whl (20.2 MB)\n",
      "   ---------------------------------------- 0.0/20.2 MB ? eta -:--:--\n",
      "   ---------------------------------------- 0.2/20.2 MB 4.1 MB/s eta 0:00:05\n",
      "    --------------------------------------- 0.3/20.2 MB 3.5 MB/s eta 0:00:06\n",
      "    --------------------------------------- 0.4/20.2 MB 3.8 MB/s eta 0:00:06\n",
      "    --------------------------------------- 0.5/20.2 MB 2.6 MB/s eta 0:00:08\n",
      "   - -------------------------------------- 0.6/20.2 MB 2.9 MB/s eta 0:00:07\n",
      "   - -------------------------------------- 0.7/20.2 MB 2.6 MB/s eta 0:00:08\n",
      "   - -------------------------------------- 1.0/20.2 MB 2.9 MB/s eta 0:00:07\n",
      "   -- ------------------------------------- 1.1/20.2 MB 2.9 MB/s eta 0:00:07\n",
      "   -- ------------------------------------- 1.3/20.2 MB 3.2 MB/s eta 0:00:06\n",
      "   -- ------------------------------------- 1.5/20.2 MB 3.2 MB/s eta 0:00:06\n",
      "   --- ------------------------------------ 1.6/20.2 MB 3.0 MB/s eta 0:00:07\n",
      "   --- ------------------------------------ 1.7/20.2 MB 3.1 MB/s eta 0:00:06\n",
      "   --- ------------------------------------ 1.8/20.2 MB 3.1 MB/s eta 0:00:06\n",
      "   --- ------------------------------------ 2.0/20.2 MB 3.1 MB/s eta 0:00:06\n",
      "   ---- ----------------------------------- 2.0/20.2 MB 3.0 MB/s eta 0:00:07\n",
      "   ---- ----------------------------------- 2.2/20.2 MB 3.0 MB/s eta 0:00:07\n",
      "   ---- ----------------------------------- 2.3/20.2 MB 2.9 MB/s eta 0:00:07\n",
      "   ---- ----------------------------------- 2.4/20.2 MB 2.9 MB/s eta 0:00:07\n",
      "   ---- ----------------------------------- 2.5/20.2 MB 2.9 MB/s eta 0:00:07\n",
      "   ----- ---------------------------------- 2.7/20.2 MB 2.9 MB/s eta 0:00:07\n",
      "   ----- ---------------------------------- 2.8/20.2 MB 2.9 MB/s eta 0:00:07\n",
      "   ----- ---------------------------------- 2.8/20.2 MB 2.8 MB/s eta 0:00:07\n",
      "   ----- ---------------------------------- 3.0/20.2 MB 2.8 MB/s eta 0:00:07\n",
      "   ------ --------------------------------- 3.2/20.2 MB 2.8 MB/s eta 0:00:07\n",
      "   ------ --------------------------------- 3.4/20.2 MB 2.9 MB/s eta 0:00:06\n",
      "   ------ --------------------------------- 3.4/20.2 MB 2.9 MB/s eta 0:00:06\n",
      "   ------- -------------------------------- 3.6/20.2 MB 2.9 MB/s eta 0:00:06\n",
      "   ------- -------------------------------- 3.7/20.2 MB 2.9 MB/s eta 0:00:06\n",
      "   ------- -------------------------------- 3.9/20.2 MB 2.9 MB/s eta 0:00:06\n",
      "   ------- -------------------------------- 4.0/20.2 MB 2.9 MB/s eta 0:00:06\n",
      "   -------- ------------------------------- 4.2/20.2 MB 2.9 MB/s eta 0:00:06\n",
      "   -------- ------------------------------- 4.4/20.2 MB 2.9 MB/s eta 0:00:06\n",
      "   -------- ------------------------------- 4.4/20.2 MB 3.0 MB/s eta 0:00:06\n",
      "   -------- ------------------------------- 4.5/20.2 MB 2.9 MB/s eta 0:00:06\n",
      "   --------- ------------------------------ 4.6/20.2 MB 2.9 MB/s eta 0:00:06\n",
      "   --------- ------------------------------ 4.8/20.2 MB 2.9 MB/s eta 0:00:06\n",
      "   --------- ------------------------------ 5.0/20.2 MB 2.9 MB/s eta 0:00:06\n",
      "   ---------- ----------------------------- 5.2/20.2 MB 2.9 MB/s eta 0:00:06\n",
      "   ---------- ----------------------------- 5.3/20.2 MB 2.9 MB/s eta 0:00:06\n",
      "   ---------- ----------------------------- 5.4/20.2 MB 2.9 MB/s eta 0:00:06\n",
      "   ---------- ----------------------------- 5.6/20.2 MB 2.9 MB/s eta 0:00:06\n",
      "   ----------- ---------------------------- 5.7/20.2 MB 2.9 MB/s eta 0:00:05\n",
      "   ----------- ---------------------------- 5.8/20.2 MB 2.9 MB/s eta 0:00:05\n",
      "   ----------- ---------------------------- 6.0/20.2 MB 2.9 MB/s eta 0:00:05\n",
      "   ------------ --------------------------- 6.1/20.2 MB 2.9 MB/s eta 0:00:05\n",
      "   ------------ --------------------------- 6.2/20.2 MB 2.9 MB/s eta 0:00:05\n",
      "   ------------ --------------------------- 6.3/20.2 MB 2.9 MB/s eta 0:00:05\n",
      "   ------------ --------------------------- 6.4/20.2 MB 2.9 MB/s eta 0:00:05\n",
      "   ------------ --------------------------- 6.6/20.2 MB 2.9 MB/s eta 0:00:05\n",
      "   ------------- -------------------------- 6.6/20.2 MB 2.9 MB/s eta 0:00:05\n",
      "   ------------- -------------------------- 6.8/20.2 MB 2.9 MB/s eta 0:00:05\n",
      "   ------------- -------------------------- 6.9/20.2 MB 2.9 MB/s eta 0:00:05\n",
      "   ------------- -------------------------- 7.1/20.2 MB 2.9 MB/s eta 0:00:05\n",
      "   -------------- ------------------------- 7.2/20.2 MB 2.9 MB/s eta 0:00:05\n",
      "   -------------- ------------------------- 7.3/20.2 MB 2.9 MB/s eta 0:00:05\n",
      "   -------------- ------------------------- 7.4/20.2 MB 2.9 MB/s eta 0:00:05\n",
      "   -------------- ------------------------- 7.5/20.2 MB 2.9 MB/s eta 0:00:05\n",
      "   --------------- ------------------------ 7.6/20.2 MB 2.9 MB/s eta 0:00:05\n",
      "   --------------- ------------------------ 7.7/20.2 MB 2.8 MB/s eta 0:00:05\n",
      "   --------------- ------------------------ 7.9/20.2 MB 2.8 MB/s eta 0:00:05\n",
      "   --------------- ------------------------ 8.0/20.2 MB 2.8 MB/s eta 0:00:05\n",
      "   ---------------- ----------------------- 8.1/20.2 MB 2.8 MB/s eta 0:00:05\n",
      "   ---------------- ----------------------- 8.3/20.2 MB 2.8 MB/s eta 0:00:05\n",
      "   ---------------- ----------------------- 8.5/20.2 MB 2.8 MB/s eta 0:00:05\n",
      "   ----------------- ---------------------- 8.6/20.2 MB 2.9 MB/s eta 0:00:05\n",
      "   ----------------- ---------------------- 8.7/20.2 MB 2.9 MB/s eta 0:00:05\n",
      "   ----------------- ---------------------- 8.9/20.2 MB 2.9 MB/s eta 0:00:04\n",
      "   ----------------- ---------------------- 8.9/20.2 MB 2.8 MB/s eta 0:00:04\n",
      "   ----------------- ---------------------- 9.1/20.2 MB 2.8 MB/s eta 0:00:04\n",
      "   ------------------ --------------------- 9.2/20.2 MB 2.8 MB/s eta 0:00:04\n",
      "   ------------------ --------------------- 9.3/20.2 MB 2.8 MB/s eta 0:00:04\n",
      "   ------------------ --------------------- 9.4/20.2 MB 2.8 MB/s eta 0:00:04\n",
      "   ------------------ --------------------- 9.5/20.2 MB 2.8 MB/s eta 0:00:04\n",
      "   ------------------- -------------------- 9.6/20.2 MB 2.8 MB/s eta 0:00:04\n",
      "   ------------------- -------------------- 9.8/20.2 MB 2.8 MB/s eta 0:00:04\n",
      "   ------------------- -------------------- 9.9/20.2 MB 2.8 MB/s eta 0:00:04\n",
      "   ------------------- -------------------- 10.0/20.2 MB 2.8 MB/s eta 0:00:04\n",
      "   -------------------- ------------------- 10.1/20.2 MB 2.8 MB/s eta 0:00:04\n",
      "   -------------------- ------------------- 10.3/20.2 MB 2.8 MB/s eta 0:00:04\n",
      "   -------------------- ------------------- 10.5/20.2 MB 2.8 MB/s eta 0:00:04\n",
      "   -------------------- ------------------- 10.6/20.2 MB 2.8 MB/s eta 0:00:04\n",
      "   --------------------- ------------------ 10.7/20.2 MB 2.8 MB/s eta 0:00:04\n",
      "   --------------------- ------------------ 10.8/20.2 MB 2.8 MB/s eta 0:00:04\n",
      "   --------------------- ------------------ 11.0/20.2 MB 2.8 MB/s eta 0:00:04\n",
      "   --------------------- ------------------ 11.1/20.2 MB 2.8 MB/s eta 0:00:04\n",
      "   ---------------------- ----------------- 11.1/20.2 MB 2.8 MB/s eta 0:00:04\n",
      "   ---------------------- ----------------- 11.2/20.2 MB 2.8 MB/s eta 0:00:04\n",
      "   ---------------------- ----------------- 11.3/20.2 MB 2.8 MB/s eta 0:00:04\n",
      "   ---------------------- ----------------- 11.5/20.2 MB 2.8 MB/s eta 0:00:04\n",
      "   ---------------------- ----------------- 11.6/20.2 MB 2.7 MB/s eta 0:00:04\n",
      "   ----------------------- ---------------- 11.7/20.2 MB 2.7 MB/s eta 0:00:04\n",
      "   ----------------------- ---------------- 11.8/20.2 MB 2.7 MB/s eta 0:00:04\n",
      "   ----------------------- ---------------- 12.0/20.2 MB 2.8 MB/s eta 0:00:03\n",
      "   ------------------------ --------------- 12.1/20.2 MB 2.8 MB/s eta 0:00:03\n",
      "   ------------------------ --------------- 12.3/20.2 MB 2.8 MB/s eta 0:00:03\n",
      "   ------------------------ --------------- 12.4/20.2 MB 2.8 MB/s eta 0:00:03\n",
      "   ------------------------ --------------- 12.5/20.2 MB 2.8 MB/s eta 0:00:03\n",
      "   ------------------------- -------------- 12.7/20.2 MB 2.8 MB/s eta 0:00:03\n",
      "   ------------------------- -------------- 12.8/20.2 MB 2.8 MB/s eta 0:00:03\n",
      "   ------------------------- -------------- 12.9/20.2 MB 2.8 MB/s eta 0:00:03\n",
      "   ------------------------- -------------- 13.1/20.2 MB 2.8 MB/s eta 0:00:03\n",
      "   -------------------------- ------------- 13.2/20.2 MB 2.8 MB/s eta 0:00:03\n",
      "   -------------------------- ------------- 13.3/20.2 MB 2.8 MB/s eta 0:00:03\n",
      "   -------------------------- ------------- 13.5/20.2 MB 2.8 MB/s eta 0:00:03\n",
      "   -------------------------- ------------- 13.6/20.2 MB 2.8 MB/s eta 0:00:03\n",
      "   --------------------------- ------------ 13.7/20.2 MB 2.8 MB/s eta 0:00:03\n",
      "   --------------------------- ------------ 13.8/20.2 MB 2.8 MB/s eta 0:00:03\n",
      "   --------------------------- ------------ 13.9/20.2 MB 2.8 MB/s eta 0:00:03\n",
      "   --------------------------- ------------ 14.0/20.2 MB 2.8 MB/s eta 0:00:03\n",
      "   ---------------------------- ----------- 14.2/20.2 MB 2.8 MB/s eta 0:00:03\n",
      "   ---------------------------- ----------- 14.3/20.2 MB 2.8 MB/s eta 0:00:03\n",
      "   ---------------------------- ----------- 14.4/20.2 MB 2.8 MB/s eta 0:00:03\n",
      "   ---------------------------- ----------- 14.5/20.2 MB 2.7 MB/s eta 0:00:03\n",
      "   ---------------------------- ----------- 14.6/20.2 MB 2.7 MB/s eta 0:00:03\n",
      "   ----------------------------- ---------- 14.7/20.2 MB 2.7 MB/s eta 0:00:03\n",
      "   ----------------------------- ---------- 14.9/20.2 MB 2.7 MB/s eta 0:00:02\n",
      "   ----------------------------- ---------- 15.0/20.2 MB 2.7 MB/s eta 0:00:02\n",
      "   ------------------------------ --------- 15.2/20.2 MB 2.7 MB/s eta 0:00:02\n",
      "   ------------------------------ --------- 15.2/20.2 MB 2.7 MB/s eta 0:00:02\n",
      "   ------------------------------ --------- 15.4/20.2 MB 2.7 MB/s eta 0:00:02\n",
      "   ------------------------------ --------- 15.6/20.2 MB 2.7 MB/s eta 0:00:02\n",
      "   ------------------------------- -------- 15.8/20.2 MB 2.8 MB/s eta 0:00:02\n",
      "   ------------------------------- -------- 15.9/20.2 MB 2.7 MB/s eta 0:00:02\n",
      "   ------------------------------- -------- 16.0/20.2 MB 2.7 MB/s eta 0:00:02\n",
      "   ------------------------------- -------- 16.1/20.2 MB 2.8 MB/s eta 0:00:02\n",
      "   -------------------------------- ------- 16.2/20.2 MB 2.7 MB/s eta 0:00:02\n",
      "   -------------------------------- ------- 16.3/20.2 MB 2.7 MB/s eta 0:00:02\n",
      "   -------------------------------- ------- 16.4/20.2 MB 2.7 MB/s eta 0:00:02\n",
      "   -------------------------------- ------- 16.6/20.2 MB 2.7 MB/s eta 0:00:02\n",
      "   -------------------------------- ------- 16.6/20.2 MB 2.7 MB/s eta 0:00:02\n",
      "   --------------------------------- ------ 16.7/20.2 MB 2.7 MB/s eta 0:00:02\n",
      "   --------------------------------- ------ 16.8/20.2 MB 2.7 MB/s eta 0:00:02\n",
      "   --------------------------------- ------ 16.9/20.2 MB 2.7 MB/s eta 0:00:02\n",
      "   --------------------------------- ------ 17.1/20.2 MB 2.7 MB/s eta 0:00:02\n",
      "   ---------------------------------- ----- 17.2/20.2 MB 2.7 MB/s eta 0:00:02\n",
      "   ---------------------------------- ----- 17.3/20.2 MB 2.7 MB/s eta 0:00:02\n",
      "   ---------------------------------- ----- 17.4/20.2 MB 2.7 MB/s eta 0:00:02\n",
      "   ---------------------------------- ----- 17.4/20.2 MB 2.7 MB/s eta 0:00:02\n",
      "   ---------------------------------- ----- 17.6/20.2 MB 2.7 MB/s eta 0:00:01\n",
      "   ----------------------------------- ---- 17.7/20.2 MB 2.7 MB/s eta 0:00:01\n",
      "   ----------------------------------- ---- 17.9/20.2 MB 2.7 MB/s eta 0:00:01\n",
      "   ----------------------------------- ---- 18.1/20.2 MB 2.7 MB/s eta 0:00:01\n",
      "   ------------------------------------ --- 18.2/20.2 MB 2.7 MB/s eta 0:00:01\n",
      "   ------------------------------------ --- 18.4/20.2 MB 2.7 MB/s eta 0:00:01\n",
      "   ------------------------------------ --- 18.5/20.2 MB 2.7 MB/s eta 0:00:01\n",
      "   ------------------------------------ --- 18.6/20.2 MB 2.7 MB/s eta 0:00:01\n",
      "   ------------------------------------- -- 18.8/20.2 MB 2.7 MB/s eta 0:00:01\n",
      "   ------------------------------------- -- 18.9/20.2 MB 2.7 MB/s eta 0:00:01\n",
      "   ------------------------------------- -- 19.0/20.2 MB 2.7 MB/s eta 0:00:01\n",
      "   ------------------------------------- -- 19.0/20.2 MB 2.7 MB/s eta 0:00:01\n",
      "   ------------------------------------- -- 19.1/20.2 MB 2.7 MB/s eta 0:00:01\n",
      "   -------------------------------------- - 19.3/20.2 MB 2.7 MB/s eta 0:00:01\n",
      "   -------------------------------------- - 19.4/20.2 MB 2.7 MB/s eta 0:00:01\n",
      "   -------------------------------------- - 19.5/20.2 MB 2.7 MB/s eta 0:00:01\n",
      "   -------------------------------------- - 19.6/20.2 MB 2.7 MB/s eta 0:00:01\n",
      "   -------------------------------------- - 19.7/20.2 MB 2.7 MB/s eta 0:00:01\n",
      "   ---------------------------------------  19.8/20.2 MB 2.7 MB/s eta 0:00:01\n",
      "   ---------------------------------------  19.9/20.2 MB 2.7 MB/s eta 0:00:01\n",
      "   ---------------------------------------  19.9/20.2 MB 2.6 MB/s eta 0:00:01\n",
      "   ---------------------------------------  20.0/20.2 MB 2.6 MB/s eta 0:00:01\n",
      "   ---------------------------------------  20.1/20.2 MB 2.6 MB/s eta 0:00:01\n",
      "   ---------------------------------------  20.2/20.2 MB 2.6 MB/s eta 0:00:01\n",
      "   ---------------------------------------  20.2/20.2 MB 2.6 MB/s eta 0:00:01\n",
      "   ---------------------------------------- 20.2/20.2 MB 2.6 MB/s eta 0:00:00\n",
      "Downloading alembic-1.13.1-py3-none-any.whl (233 kB)\n",
      "   ---------------------------------------- 0.0/233.4 kB ? eta -:--:--\n",
      "   ------ -------------------------------- 41.0/233.4 kB 991.0 kB/s eta 0:00:01\n",
      "   ------------------- -------------------- 112.6/233.4 kB 1.3 MB/s eta 0:00:01\n",
      "   ---------------------------------------- 233.4/233.4 kB 2.0 MB/s eta 0:00:00\n",
      "Downloading cloudpickle-3.0.0-py3-none-any.whl (20 kB)\n",
      "Downloading docker-7.0.0-py3-none-any.whl (147 kB)\n",
      "   ---------------------------------------- 0.0/147.6 kB ? eta -:--:--\n",
      "   ---------------------------------------- 147.6/147.6 kB 2.9 MB/s eta 0:00:00\n",
      "Downloading entrypoints-0.4-py3-none-any.whl (5.3 kB)\n",
      "Downloading flask-3.0.3-py3-none-any.whl (101 kB)\n",
      "   ---------------------------------------- 0.0/101.7 kB ? eta -:--:--\n",
      "   ---------------------------------------- 101.7/101.7 kB 3.0 MB/s eta 0:00:00\n",
      "Downloading GitPython-3.1.43-py3-none-any.whl (207 kB)\n",
      "   ---------------------------------------- 0.0/207.3 kB ? eta -:--:--\n",
      "   ----------------------- ---------------- 122.9/207.3 kB 3.6 MB/s eta 0:00:01\n",
      "   ---------------------------------------- 207.3/207.3 kB 3.2 MB/s eta 0:00:00\n",
      "Downloading graphene-3.3-py2.py3-none-any.whl (128 kB)\n",
      "   ---------------------------------------- 0.0/128.2 kB ? eta -:--:--\n",
      "   -------------------------------------- - 122.9/128.2 kB 3.6 MB/s eta 0:00:01\n",
      "   ---------------------------------------- 128.2/128.2 kB 2.5 MB/s eta 0:00:00\n",
      "Downloading importlib_metadata-7.1.0-py3-none-any.whl (24 kB)\n",
      "Downloading Markdown-3.6-py3-none-any.whl (105 kB)\n",
      "   ---------------------------------------- 0.0/105.4 kB ? eta -:--:--\n",
      "   --------------- ----------------------- 41.0/105.4 kB 960.0 kB/s eta 0:00:01\n",
      "   ---------------------------------------- 105.4/105.4 kB 1.5 MB/s eta 0:00:00\n",
      "Downloading protobuf-5.26.1-cp310-abi3-win_amd64.whl (420 kB)\n",
      "   ---------------------------------------- 0.0/420.9 kB ? eta -:--:--\n",
      "   -------- ------------------------------- 92.2/420.9 kB 5.1 MB/s eta 0:00:01\n",
      "   ----------------- ---------------------- 184.3/420.9 kB 2.8 MB/s eta 0:00:01\n",
      "   --------------------------------- ------ 348.2/420.9 kB 3.1 MB/s eta 0:00:01\n",
      "   ---------------------------------------- 420.9/420.9 kB 2.6 MB/s eta 0:00:00\n",
      "Downloading querystring_parser-1.2.4-py2.py3-none-any.whl (7.9 kB)\n",
      "Downloading sqlparse-0.5.0-py3-none-any.whl (43 kB)\n",
      "   ---------------------------------------- 0.0/44.0 kB ? eta -:--:--\n",
      "   ---------------------------------------- 44.0/44.0 kB 2.1 MB/s eta 0:00:00\n",
      "Downloading waitress-3.0.0-py3-none-any.whl (56 kB)\n",
      "   ---------------------------------------- 0.0/56.7 kB ? eta -:--:--\n",
      "   ---------------------------------------- 56.7/56.7 kB 2.9 MB/s eta 0:00:00\n",
      "Downloading aniso8601-9.0.1-py2.py3-none-any.whl (52 kB)\n",
      "   ---------------------------------------- 0.0/52.8 kB ? eta -:--:--\n",
      "   ---------------------------------------- 52.8/52.8 kB 2.7 MB/s eta 0:00:00\n",
      "Downloading blinker-1.8.0-py3-none-any.whl (9.3 kB)\n",
      "Using cached gitdb-4.0.11-py3-none-any.whl (62 kB)\n",
      "Downloading graphql_core-3.2.3-py3-none-any.whl (202 kB)\n",
      "   ---------------------------------------- 0.0/202.9 kB ? eta -:--:--\n",
      "   ------------ --------------------------- 61.4/202.9 kB 3.4 MB/s eta 0:00:01\n",
      "   ---------------------------------------- 202.9/202.9 kB 2.5 MB/s eta 0:00:00\n",
      "Downloading graphql_relay-3.2.0-py3-none-any.whl (16 kB)\n",
      "Downloading itsdangerous-2.2.0-py3-none-any.whl (16 kB)\n",
      "Downloading werkzeug-3.0.2-py3-none-any.whl (226 kB)\n",
      "   ---------------------------------------- 0.0/226.8 kB ? eta -:--:--\n",
      "   --------------------- ------------------ 122.9/226.8 kB 2.4 MB/s eta 0:00:01\n",
      "   ---------------------------------------- 226.8/226.8 kB 2.3 MB/s eta 0:00:00\n",
      "Downloading zipp-3.18.1-py3-none-any.whl (8.2 kB)\n",
      "Downloading Mako-1.3.3-py3-none-any.whl (78 kB)\n",
      "   ---------------------------------------- 0.0/78.8 kB ? eta -:--:--\n",
      "   ---------------------------------------- 78.8/78.8 kB 2.2 MB/s eta 0:00:00\n",
      "Using cached smmap-5.0.1-py3-none-any.whl (24 kB)\n",
      "Installing collected packages: aniso8601, zipp, Werkzeug, waitress, sqlparse, smmap, querystring-parser, protobuf, markdown, Mako, itsdangerous, graphql-core, entrypoints, cloudpickle, blinker, importlib-metadata, graphql-relay, gitdb, Flask, docker, alembic, graphene, gitpython, mlflow\n",
      "Successfully installed Flask-3.0.3 Mako-1.3.3 Werkzeug-3.0.2 alembic-1.13.1 aniso8601-9.0.1 blinker-1.8.0 cloudpickle-3.0.0 docker-7.0.0 entrypoints-0.4 gitdb-4.0.11 gitpython-3.1.43 graphene-3.3 graphql-core-3.2.3 graphql-relay-3.2.0 importlib-metadata-7.1.0 itsdangerous-2.2.0 markdown-3.6 mlflow-2.12.1 protobuf-5.26.1 querystring-parser-1.2.4 smmap-5.0.1 sqlparse-0.5.0 waitress-3.0.0 zipp-3.18.1\n"
     ]
    }
   ],
   "source": [
    "pip install mlflow\n"
   ]
  },
  {
   "cell_type": "code",
   "execution_count": 6,
   "metadata": {
    "ExecuteTime": {
     "end_time": "2024-03-23T13:58:52.626717Z",
     "start_time": "2024-03-23T13:58:51.434801Z"
    }
   },
   "outputs": [
    {
     "name": "stdout",
     "output_type": "stream",
     "text": [
      "env: AWS_ACCESS_KEY_ID=minio\n",
      "env: AWS_SECRET_ACCESS_KEY=minio123\n",
      "env: MLFLOW_S3_ENDPOINT_URL=http://localhost:9000\n",
      "env: AWS_ENDPOINT_URL_S3=http://localhost:9000\n"
     ]
    }
   ],
   "source": [
    "import awswrangler as wr\n",
    "\n",
    "import mlflow\n",
    "\n",
    "# Para que funciones, todos nuestros scripts debemos exportar las siguientes variables de entorno\n",
    "%env AWS_ACCESS_KEY_ID=minio   \n",
    "%env AWS_SECRET_ACCESS_KEY=minio123 \n",
    "%env MLFLOW_S3_ENDPOINT_URL=http://localhost:9000\n",
    "%env AWS_ENDPOINT_URL_S3=http://localhost:9000"
   ]
  },
  {
   "cell_type": "markdown",
   "metadata": {},
   "source": [
    "# Búsqueda de mejor modelo e hiperparámetros\n",
    "\n",
    "Dado nuestro dataset de Heart Disease, el cual ya pasó por el proceso de ETL y se encuentra en nuestro S3 bucket, vamos a realizar una búsqueda de cual seria el mejor modelo y que hiperparametros usar.\n",
    "\n",
    "La búsqueda de hiperparametros la haremos usando Optuna y el tracking será realizado mediante MLFlow.\n",
    "\n",
    "OBS: Para la confección de esta notebook, nos basamos en el tutorial de [MLFlow](https://mlflow.org/docs/latest/traditional-ml/hyperparameter-tuning-with-child-runs/notebooks/index.html)."
   ]
  },
  {
   "cell_type": "code",
   "execution_count": 7,
   "metadata": {
    "ExecuteTime": {
     "end_time": "2024-03-23T13:58:52.633829Z",
     "start_time": "2024-03-23T13:58:52.629497Z"
    }
   },
   "outputs": [],
   "source": [
    "mlflow_server = \"http://localhost:5000\"\n",
    "#mlflow_server = \"http://192.168.0.21:5000\"\n",
    "\n",
    "mlflow.set_tracking_uri(mlflow_server)"
   ]
  },
  {
   "cell_type": "code",
   "execution_count": 8,
   "metadata": {
    "ExecuteTime": {
     "end_time": "2024-03-23T13:58:53.919756Z",
     "start_time": "2024-03-23T13:58:53.345903Z"
    }
   },
   "outputs": [
    {
     "ename": "NoFilesFound",
     "evalue": "No files Found on: s3://data/final/train/heart_X_train.csv.",
     "output_type": "error",
     "traceback": [
      "\u001b[1;31m---------------------------------------------------------------------------\u001b[0m",
      "\u001b[1;31mNoFilesFound\u001b[0m                              Traceback (most recent call last)",
      "Cell \u001b[1;32mIn[8], line 3\u001b[0m\n\u001b[0;32m      1\u001b[0m \u001b[38;5;66;03m# Cargamos los datos para realizar nuestro estudio.\u001b[39;00m\n\u001b[0;32m      2\u001b[0m \u001b[38;5;66;03m# OBS, no vamos a cargar los datos de testing, nada de Data leakage por aquí\u001b[39;00m\n\u001b[1;32m----> 3\u001b[0m X_train \u001b[38;5;241m=\u001b[39m  \u001b[43mwr\u001b[49m\u001b[38;5;241;43m.\u001b[39;49m\u001b[43ms3\u001b[49m\u001b[38;5;241;43m.\u001b[39;49m\u001b[43mread_csv\u001b[49m\u001b[43m(\u001b[49m\u001b[38;5;124;43m\"\u001b[39;49m\u001b[38;5;124;43ms3://data/final/train/heart_X_train.csv\u001b[39;49m\u001b[38;5;124;43m\"\u001b[39;49m\u001b[43m)\u001b[49m\n\u001b[0;32m      4\u001b[0m y_train \u001b[38;5;241m=\u001b[39m  wr\u001b[38;5;241m.\u001b[39ms3\u001b[38;5;241m.\u001b[39mread_csv(\u001b[38;5;124m\"\u001b[39m\u001b[38;5;124ms3://data/final/train/heart_y_train.csv\u001b[39m\u001b[38;5;124m\"\u001b[39m)\n\u001b[0;32m      6\u001b[0m X_test \u001b[38;5;241m=\u001b[39m  wr\u001b[38;5;241m.\u001b[39ms3\u001b[38;5;241m.\u001b[39mread_csv(\u001b[38;5;124m\"\u001b[39m\u001b[38;5;124ms3://data/final/test/heart_X_test.csv\u001b[39m\u001b[38;5;124m\"\u001b[39m)\n",
      "File \u001b[1;32m~\\AppData\\Local\\Packages\\PythonSoftwareFoundation.Python.3.12_qbz5n2kfra8p0\\LocalCache\\local-packages\\Python312\\site-packages\\awswrangler\\_utils.py:178\u001b[0m, in \u001b[0;36mvalidate_kwargs.<locals>.decorator.<locals>.inner\u001b[1;34m(*args, **kwargs)\u001b[0m\n\u001b[0;32m    175\u001b[0m \u001b[38;5;28;01mif\u001b[39;00m condition_fn() \u001b[38;5;129;01mand\u001b[39;00m \u001b[38;5;28mlen\u001b[39m(passed_unsupported_kwargs) \u001b[38;5;241m>\u001b[39m \u001b[38;5;241m0\u001b[39m:\n\u001b[0;32m    176\u001b[0m     \u001b[38;5;28;01mraise\u001b[39;00m exceptions\u001b[38;5;241m.\u001b[39mInvalidArgument(\u001b[38;5;124mf\u001b[39m\u001b[38;5;124m\"\u001b[39m\u001b[38;5;132;01m{\u001b[39;00mmessage\u001b[38;5;132;01m}\u001b[39;00m\u001b[38;5;124m `\u001b[39m\u001b[38;5;132;01m{\u001b[39;00m\u001b[38;5;124m'\u001b[39m\u001b[38;5;124m, \u001b[39m\u001b[38;5;124m'\u001b[39m\u001b[38;5;241m.\u001b[39mjoin(passed_unsupported_kwargs)\u001b[38;5;132;01m}\u001b[39;00m\u001b[38;5;124m`.\u001b[39m\u001b[38;5;124m\"\u001b[39m)\n\u001b[1;32m--> 178\u001b[0m \u001b[38;5;28;01mreturn\u001b[39;00m \u001b[43mfunc\u001b[49m\u001b[43m(\u001b[49m\u001b[38;5;241;43m*\u001b[39;49m\u001b[43margs\u001b[49m\u001b[43m,\u001b[49m\u001b[43m \u001b[49m\u001b[38;5;241;43m*\u001b[39;49m\u001b[38;5;241;43m*\u001b[39;49m\u001b[43mkwargs\u001b[49m\u001b[43m)\u001b[49m\n",
      "File \u001b[1;32m~\\AppData\\Local\\Packages\\PythonSoftwareFoundation.Python.3.12_qbz5n2kfra8p0\\LocalCache\\local-packages\\Python312\\site-packages\\awswrangler\\s3\\_read_text.py:298\u001b[0m, in \u001b[0;36mread_csv\u001b[1;34m(path, path_suffix, path_ignore_suffix, version_id, ignore_empty, use_threads, last_modified_begin, last_modified_end, boto3_session, s3_additional_kwargs, dtype_backend, chunksize, dataset, partition_filter, ray_args, **pandas_kwargs)\u001b[0m\n\u001b[0;32m    296\u001b[0m s3_client \u001b[38;5;241m=\u001b[39m _utils\u001b[38;5;241m.\u001b[39mclient(service_name\u001b[38;5;241m=\u001b[39m\u001b[38;5;124m\"\u001b[39m\u001b[38;5;124ms3\u001b[39m\u001b[38;5;124m\"\u001b[39m, session\u001b[38;5;241m=\u001b[39mboto3_session)\n\u001b[0;32m    297\u001b[0m ignore_index: \u001b[38;5;28mbool\u001b[39m \u001b[38;5;241m=\u001b[39m \u001b[38;5;124m\"\u001b[39m\u001b[38;5;124mindex_col\u001b[39m\u001b[38;5;124m\"\u001b[39m \u001b[38;5;129;01mnot\u001b[39;00m \u001b[38;5;129;01min\u001b[39;00m pandas_kwargs\n\u001b[1;32m--> 298\u001b[0m \u001b[38;5;28;01mreturn\u001b[39;00m \u001b[43m_read_text_format\u001b[49m\u001b[43m(\u001b[49m\n\u001b[0;32m    299\u001b[0m \u001b[43m    \u001b[49m\u001b[43mread_format\u001b[49m\u001b[38;5;241;43m=\u001b[39;49m\u001b[38;5;124;43m\"\u001b[39;49m\u001b[38;5;124;43mcsv\u001b[39;49m\u001b[38;5;124;43m\"\u001b[39;49m\u001b[43m,\u001b[49m\n\u001b[0;32m    300\u001b[0m \u001b[43m    \u001b[49m\u001b[43mpath\u001b[49m\u001b[38;5;241;43m=\u001b[39;49m\u001b[43mpath\u001b[49m\u001b[43m,\u001b[49m\n\u001b[0;32m    301\u001b[0m \u001b[43m    \u001b[49m\u001b[43mpath_suffix\u001b[49m\u001b[38;5;241;43m=\u001b[39;49m\u001b[43mpath_suffix\u001b[49m\u001b[43m,\u001b[49m\n\u001b[0;32m    302\u001b[0m \u001b[43m    \u001b[49m\u001b[43mpath_ignore_suffix\u001b[49m\u001b[38;5;241;43m=\u001b[39;49m\u001b[43mpath_ignore_suffix\u001b[49m\u001b[43m,\u001b[49m\n\u001b[0;32m    303\u001b[0m \u001b[43m    \u001b[49m\u001b[43mversion_id\u001b[49m\u001b[38;5;241;43m=\u001b[39;49m\u001b[43mversion_id\u001b[49m\u001b[43m,\u001b[49m\n\u001b[0;32m    304\u001b[0m \u001b[43m    \u001b[49m\u001b[43mignore_empty\u001b[49m\u001b[38;5;241;43m=\u001b[39;49m\u001b[43mignore_empty\u001b[49m\u001b[43m,\u001b[49m\n\u001b[0;32m    305\u001b[0m \u001b[43m    \u001b[49m\u001b[43muse_threads\u001b[49m\u001b[38;5;241;43m=\u001b[39;49m\u001b[43muse_threads\u001b[49m\u001b[43m,\u001b[49m\n\u001b[0;32m    306\u001b[0m \u001b[43m    \u001b[49m\u001b[43ms3_client\u001b[49m\u001b[38;5;241;43m=\u001b[39;49m\u001b[43ms3_client\u001b[49m\u001b[43m,\u001b[49m\n\u001b[0;32m    307\u001b[0m \u001b[43m    \u001b[49m\u001b[43ms3_additional_kwargs\u001b[49m\u001b[38;5;241;43m=\u001b[39;49m\u001b[43ms3_additional_kwargs\u001b[49m\u001b[43m,\u001b[49m\n\u001b[0;32m    308\u001b[0m \u001b[43m    \u001b[49m\u001b[43mchunksize\u001b[49m\u001b[38;5;241;43m=\u001b[39;49m\u001b[43mchunksize\u001b[49m\u001b[43m,\u001b[49m\n\u001b[0;32m    309\u001b[0m \u001b[43m    \u001b[49m\u001b[43mdataset\u001b[49m\u001b[38;5;241;43m=\u001b[39;49m\u001b[43mdataset\u001b[49m\u001b[43m,\u001b[49m\n\u001b[0;32m    310\u001b[0m \u001b[43m    \u001b[49m\u001b[43mpartition_filter\u001b[49m\u001b[38;5;241;43m=\u001b[39;49m\u001b[43mpartition_filter\u001b[49m\u001b[43m,\u001b[49m\n\u001b[0;32m    311\u001b[0m \u001b[43m    \u001b[49m\u001b[43mlast_modified_begin\u001b[49m\u001b[38;5;241;43m=\u001b[39;49m\u001b[43mlast_modified_begin\u001b[49m\u001b[43m,\u001b[49m\n\u001b[0;32m    312\u001b[0m \u001b[43m    \u001b[49m\u001b[43mlast_modified_end\u001b[49m\u001b[38;5;241;43m=\u001b[39;49m\u001b[43mlast_modified_end\u001b[49m\u001b[43m,\u001b[49m\n\u001b[0;32m    313\u001b[0m \u001b[43m    \u001b[49m\u001b[43mignore_index\u001b[49m\u001b[38;5;241;43m=\u001b[39;49m\u001b[43mignore_index\u001b[49m\u001b[43m,\u001b[49m\n\u001b[0;32m    314\u001b[0m \u001b[43m    \u001b[49m\u001b[43mray_args\u001b[49m\u001b[38;5;241;43m=\u001b[39;49m\u001b[43mray_args\u001b[49m\u001b[43m,\u001b[49m\n\u001b[0;32m    315\u001b[0m \u001b[43m    \u001b[49m\u001b[38;5;241;43m*\u001b[39;49m\u001b[38;5;241;43m*\u001b[39;49m\u001b[43mpandas_kwargs\u001b[49m\u001b[43m,\u001b[49m\n\u001b[0;32m    316\u001b[0m \u001b[43m\u001b[49m\u001b[43m)\u001b[49m\n",
      "File \u001b[1;32m~\\AppData\\Local\\Packages\\PythonSoftwareFoundation.Python.3.12_qbz5n2kfra8p0\\LocalCache\\local-packages\\Python312\\site-packages\\awswrangler\\s3\\_read_text.py:111\u001b[0m, in \u001b[0;36m_read_text_format\u001b[1;34m(read_format, path, path_suffix, path_ignore_suffix, ignore_empty, use_threads, last_modified_begin, last_modified_end, s3_client, s3_additional_kwargs, chunksize, dataset, partition_filter, ignore_index, ray_args, version_id, **pandas_kwargs)\u001b[0m\n\u001b[0;32m    109\u001b[0m     paths \u001b[38;5;241m=\u001b[39m _apply_partition_filter(path_root\u001b[38;5;241m=\u001b[39mpath_root, paths\u001b[38;5;241m=\u001b[39mpaths, filter_func\u001b[38;5;241m=\u001b[39mpartition_filter)\n\u001b[0;32m    110\u001b[0m \u001b[38;5;28;01mif\u001b[39;00m \u001b[38;5;28mlen\u001b[39m(paths) \u001b[38;5;241m<\u001b[39m \u001b[38;5;241m1\u001b[39m:\n\u001b[1;32m--> 111\u001b[0m     \u001b[38;5;28;01mraise\u001b[39;00m exceptions\u001b[38;5;241m.\u001b[39mNoFilesFound(\u001b[38;5;124mf\u001b[39m\u001b[38;5;124m\"\u001b[39m\u001b[38;5;124mNo files Found on: \u001b[39m\u001b[38;5;132;01m{\u001b[39;00mpath\u001b[38;5;132;01m}\u001b[39;00m\u001b[38;5;124m.\u001b[39m\u001b[38;5;124m\"\u001b[39m)\n\u001b[0;32m    113\u001b[0m version_ids \u001b[38;5;241m=\u001b[39m _check_version_id(paths\u001b[38;5;241m=\u001b[39mpaths, version_id\u001b[38;5;241m=\u001b[39mversion_id)\n\u001b[0;32m    115\u001b[0m args: \u001b[38;5;28mdict\u001b[39m[\u001b[38;5;28mstr\u001b[39m, Any] \u001b[38;5;241m=\u001b[39m {\n\u001b[0;32m    116\u001b[0m     \u001b[38;5;124m\"\u001b[39m\u001b[38;5;124mparser_func\u001b[39m\u001b[38;5;124m\"\u001b[39m: _resolve_format(read_format),\n\u001b[0;32m    117\u001b[0m     \u001b[38;5;124m\"\u001b[39m\u001b[38;5;124ms3_client\u001b[39m\u001b[38;5;124m\"\u001b[39m: s3_client,\n\u001b[1;32m   (...)\u001b[0m\n\u001b[0;32m    122\u001b[0m     \u001b[38;5;124m\"\u001b[39m\u001b[38;5;124muse_threads\u001b[39m\u001b[38;5;124m\"\u001b[39m: use_threads,\n\u001b[0;32m    123\u001b[0m }\n",
      "\u001b[1;31mNoFilesFound\u001b[0m: No files Found on: s3://data/final/train/heart_X_train.csv."
     ]
    }
   ],
   "source": [
    "# Cargamos los datos para realizar nuestro estudio.\n",
    "# OBS, no vamos a cargar los datos de testing, nada de Data leakage por aquí\n",
    "X_train =  wr.s3.read_csv(\"s3://data/final/train/heart_X_train.csv\")\n",
    "y_train =  wr.s3.read_csv(\"s3://data/final/train/heart_y_train.csv\")\n",
    "\n",
    "X_test =  wr.s3.read_csv(\"s3://data/final/test/heart_X_test.csv\")\n",
    "y_test =  wr.s3.read_csv(\"s3://data/final/test/heart_y_test.csv\")"
   ]
  },
  {
   "cell_type": "markdown",
   "metadata": {},
   "source": [
    "## Investigamos la correlación de features con la variable objetivo\n",
    "\n",
    "Antes de profundizar en el proceso de construcción de modelo, es esencial comprender las relaciones entre nuestras features  y la variable objetivo. Por lo que vamos a realizar un gráfico que indica el coeficiente de correlación de cada feature en relación con la variable objetivo. Esto nos sirve para:\n",
    "\n",
    "- Evitar data leakage: Debemos asegurarnos de que ninguna característica se correlacione perfectamente con el objetivo (un coeficiente de correlación de aproximadamente 1.0). Si existe tal correlación, es una señal de que nuestro conjunto de datos podría estar \"filtrando\" información sobre el objetivo. \n",
    "\n",
    "- Garantizar relaciones significativas: Idealmente, nuestras características deberían tener algún grado de correlación con el objetivo. Inclusive si estamos trabajando con un problema de clasificación, aunque los resultados no son tan importantes como en un caso de regresión.\n",
    "\n",
    "- Auditoría y trazabilidad: Loggear esta visualización de correlación con nuestra ejecución principal de MLflow garantiza la trazabilidad. Proporciona una instantánea de las características de los datos en el momento del entrenamiento del modelo, lo cual es invaluable para propósitos de auditoría y replicabilidad."
   ]
  },
  {
   "cell_type": "code",
   "execution_count": 4,
   "metadata": {
    "ExecuteTime": {
     "end_time": "2024-03-23T13:58:55.742436Z",
     "start_time": "2024-03-23T13:58:54.704687Z"
    }
   },
   "outputs": [],
   "source": [
    "from plots import plot_correlation_with_target, plot_information_gain_with_target"
   ]
  },
  {
   "cell_type": "code",
   "execution_count": 5,
   "metadata": {
    "ExecuteTime": {
     "end_time": "2024-03-23T13:58:55.925315Z",
     "start_time": "2024-03-23T13:58:55.743462Z"
    }
   },
   "outputs": [],
   "source": [
    "# Dado que estamos usando como tracking a MLFlow, mostrar los gráficos aquí no tiene sentido.\n",
    "correlation_plot = plot_correlation_with_target(X_train, y_train)\n",
    "information_gain_plot = plot_information_gain_with_target(X_train, y_train)"
   ]
  },
  {
   "cell_type": "markdown",
   "metadata": {},
   "source": [
    "## Arrancamos a experimentar"
   ]
  },
  {
   "cell_type": "code",
   "execution_count": 6,
   "metadata": {
    "ExecuteTime": {
     "end_time": "2024-03-23T13:58:58.450741Z",
     "start_time": "2024-03-23T13:58:57.929114Z"
    }
   },
   "outputs": [],
   "source": [
    "import datetime\n",
    "import optuna\n",
    "\n",
    "from mlflow.models import infer_signature\n",
    "from mlflow_aux import get_or_create_experiment\n",
    "\n",
    "from optuna_aux import champion_callback, objective\n",
    "\n",
    "from sklearn.svm import SVC \n",
    "from sklearn.tree import DecisionTreeClassifier\n",
    "from sklearn.ensemble import RandomForestClassifier\n",
    "from sklearn.metrics import f1_score\n",
    "\n",
    "# Optuna es un poco verboso, dejamos que solo nos muestre logs de errores\n",
    "optuna.logging.set_verbosity(optuna.logging.ERROR)"
   ]
  },
  {
   "cell_type": "markdown",
   "metadata": {},
   "source": [
    "Antes de poder realizar experimentos, vamos a crear el experimento en MLFLow, pero para evitar desorden, vamos a usar una función que se fije primero si el experimento existe, si esto es así, devuelve su ID.\n",
    "\n",
    "Además creamos el nombre del run padre con el que vamos a ir registrando las ejecuciones."
   ]
  },
  {
   "cell_type": "code",
   "execution_count": 7,
   "metadata": {
    "ExecuteTime": {
     "end_time": "2024-03-23T13:58:59.020326Z",
     "start_time": "2024-03-23T13:58:58.984334Z"
    }
   },
   "outputs": [
    {
     "name": "stdout",
     "output_type": "stream",
     "text": [
      "1\n"
     ]
    }
   ],
   "source": [
    "# Creemos el experimento\n",
    "experiment_id = get_or_create_experiment(\"Heart Disease\")\n",
    "print(experiment_id)\n",
    "\n",
    "run_name_parent = \"best_hyperparam_\"  + datetime.datetime.today().strftime('%Y/%m/%d-%H:%M:%S\"')"
   ]
  },
  {
   "cell_type": "markdown",
   "metadata": {},
   "source": [
    "Ya con todo seteado, vamos a ejecutar la optimización usando Optuna, el cual realiza una búsqueda Bayesiana, la cual es más eficiente que una búsqueda de grilla tradicional. La desventaja es que es más difícil de paralelizar."
   ]
  },
  {
   "cell_type": "code",
   "execution_count": 20,
   "metadata": {
    "ExecuteTime": {
     "end_time": "2024-03-23T13:43:38.917876Z",
     "start_time": "2024-03-23T13:43:06.961581Z"
    }
   },
   "outputs": [
    {
     "name": "stdout",
     "output_type": "stream",
     "text": [
      "Initial trial 0 achieved value: 0.7961872586872587\n",
      "Trial 7 achieved value: 0.819420525106548 with  2.8353% improvement\n",
      "Trial 16 achieved value: 0.8265134849209457 with  0.8582% improvement\n",
      "Trial 21 achieved value: 0.8272989435112823 with  0.0949% improvement\n",
      "Trial 24 achieved value: 0.8318300653594772 with  0.5447% improvement\n",
      "Trial 28 achieved value: 0.8324649859943978 with  0.0763% improvement\n",
      "Trial 41 achieved value: 0.8377506012800131 with  0.6309% improvement\n"
     ]
    },
    {
     "name": "stderr",
     "output_type": "stream",
     "text": [
      "Successfully registered model 'heart_disease_model_dev'.\n",
      "2024/03/23 10:43:38 INFO mlflow.store.model_registry.abstract_store: Waiting up to 300 seconds for model version to finish creation. Model name: heart_disease_model_dev, version 1\n",
      "Created version '1' of model 'heart_disease_model_dev'.\n"
     ]
    }
   ],
   "source": [
    "with mlflow.start_run(experiment_id=experiment_id, run_name=run_name_parent, nested=True):\n",
    "    # Inicializamos el estudio de Optuna\n",
    "    study = optuna.create_study(direction=\"maximize\")\n",
    "\n",
    "    # Ejecutamos los trials de optimización de hiperparametros. Cada uno de estos trials se ejecuta con un run separado, pero \n",
    "    # está anidado al run padre.\n",
    "    # Notar la adición del `champion_callback` para controlar qué mensajes mostramos\n",
    "    # Para entender mejor esto ver la documentación de objective y champion_callback en optuna_aux\n",
    "    study.optimize(lambda trial: objective(trial, X_train, y_train, experiment_id), n_trials=250, callbacks=[champion_callback])\n",
    "\n",
    "    # Una vez que terminamos la búsqueda, guardamos los mejores parámetros en el run padre.\n",
    "    mlflow.log_params(study.best_params)\n",
    "    mlflow.log_metric(\"best_train_f1\", study.best_value)\n",
    "\n",
    "    mlflow.set_tags(\n",
    "        tags={\n",
    "            \"project\": \"Heart Disease\",\n",
    "            \"optimizer_engine\": \"optuna\",\n",
    "            \"model_family\": \"sklearn\",\n",
    "            \"feature_set_version\": 1,\n",
    "        }\n",
    "    )\n",
    "\n",
    "    # Una vez que terminamos la búsqueda, nos quedamos con el mejor modelo y lo entrenamos\n",
    "    if study.best_params[\"classifier\"] == \"SVC_linear\":\n",
    "        model = SVC(C=study.best_params[\"svc_c\"], kernel='linear', gamma='scale')\n",
    "    elif study.best_params[\"classifier\"] == \"SVC_poly\":\n",
    "        model = SVC(C=study.best_params[\"svc_c\"], kernel='poly', \n",
    "                    gamma='scale', degree=study.best_params[\"svc_poly_degree\"])\n",
    "    elif study.best_params[\"classifier\"] == \"SVC_rbf\":\n",
    "        model = SVC(C=study.best_params[\"svc_c\"], kernel='rbf', gamma='scale')\n",
    "    elif study.best_params[\"classifier\"] == \"DecisionTreeClassifier\":\n",
    "        model = DecisionTreeClassifier(max_depth=study.best_params[\"tree_max_depth\"])\n",
    "    else:\n",
    "        model = RandomForestClassifier(max_depth=study.best_params[\"rf_max_depth\"], \n",
    "                                       n_estimators=study.best_params[\"rf_n_estimators\"])\n",
    "\n",
    "    model = model.fit(X_train, y_train.to_numpy().ravel())\n",
    "\n",
    "    # Y testeamos el modelo y logueamos el resultado\n",
    "    y_pred = model.predict(X_test)\n",
    "    f1_score = f1_score(y_test.to_numpy().ravel(), y_pred)\n",
    "    mlflow.log_metric(\"test_f1\", f1_score)\n",
    "\n",
    "    # Logueamos los artefactos de las gráficas de correlación y de information_gain\n",
    "    mlflow.log_figure(figure=correlation_plot, artifact_file=\"correlation_plot.png\")\n",
    "    mlflow.log_figure(figure=information_gain_plot, artifact_file=\"information_gain_plot.png\")\n",
    "\n",
    "    # Guardamos el artefacto del modelo\n",
    "    artifact_path = \"model\"\n",
    "\n",
    "    signature = infer_signature(X_train, model.predict(X_train))\n",
    "\n",
    "    mlflow.sklearn.log_model(\n",
    "        sk_model=model,\n",
    "        artifact_path=artifact_path,\n",
    "        signature=signature,\n",
    "        serialization_format='cloudpickle',\n",
    "        registered_model_name=\"heart_disease_model_dev\",\n",
    "        metadata={\"model_data_version\": 1}\n",
    "    )\n",
    "\n",
    "    # Obtenemos la ubicación del modelo guardado en MLFlow\n",
    "    model_uri = mlflow.get_artifact_uri(artifact_path)\n"
   ]
  },
  {
   "cell_type": "markdown",
   "metadata": {},
   "source": [
    "## Testeando el modelo\n",
    "\n",
    "Una vez que el modelo fue entrenado, podemos levantarlo y testearlo de una forma agnóstica a donde está guardado."
   ]
  },
  {
   "cell_type": "code",
   "execution_count": 21,
   "metadata": {
    "ExecuteTime": {
     "end_time": "2024-03-23T13:52:48.990896Z",
     "start_time": "2024-03-23T13:52:48.840129Z"
    }
   },
   "outputs": [
    {
     "data": {
      "application/vnd.jupyter.widget-view+json": {
       "model_id": "6397ae5a371845e4900d0d9fc2aa78c4",
       "version_major": 2,
       "version_minor": 0
      },
      "text/plain": [
       "Downloading artifacts:   0%|          | 0/5 [00:00<?, ?it/s]"
      ]
     },
     "metadata": {},
     "output_type": "display_data"
    }
   ],
   "source": [
    "loaded = mlflow.sklearn.load_model(model_uri)"
   ]
  },
  {
   "cell_type": "code",
   "execution_count": 22,
   "metadata": {
    "ExecuteTime": {
     "end_time": "2024-03-23T13:52:52.816010Z",
     "start_time": "2024-03-23T13:52:52.805948Z"
    }
   },
   "outputs": [
    {
     "name": "stderr",
     "output_type": "stream",
     "text": [
      "/Users/facundolucianna/Investigacion/env/notebook_env_python3_8/lib/python3.8/site-packages/sklearn/base.py:465: UserWarning: X does not have valid feature names, but SVC was fitted with feature names\n",
      "  warnings.warn(\n"
     ]
    },
    {
     "data": {
      "text/plain": [
       "array([1])"
      ]
     },
     "execution_count": 22,
     "metadata": {},
     "output_type": "execute_result"
    }
   ],
   "source": [
    "import numpy as np\n",
    "test_data = [-1.0431146438366603, 0.6689936080056726, 0.5955141571109206, 1.4218278518511829, -0.3955054753168235,\n",
    "             -0.195684619877533, 1.445528359737701, -0.8782783888787548, -0.4354941703556927, -0.6313862911472252,\n",
    "             1.0752906583803283, -0.0987729596649589, 0.957427107756338, 1.1071614388213236, -0.2991215208080594,\n",
    "             -0.5494422557947561, -0.362142984170074, 4.690415759823429, -0.2253029545296664, 1.1980376111153852]\n",
    "loaded.predict(np.array(test_data).reshape([1, -1]))"
   ]
  },
  {
   "cell_type": "markdown",
   "metadata": {},
   "source": [
    "## Registramos el modelo \n",
    "\n",
    "Realizamos el registro del modelo en MLflow. En este registro se pone el modelo productivo que luego se usará para servir en formato on-line."
   ]
  },
  {
   "cell_type": "code",
   "execution_count": 23,
   "metadata": {
    "ExecuteTime": {
     "end_time": "2024-03-23T13:53:33.534969Z",
     "start_time": "2024-03-23T13:53:33.462363Z"
    }
   },
   "outputs": [
    {
     "name": "stderr",
     "output_type": "stream",
     "text": [
      "2024/03/23 10:53:33 INFO mlflow.store.model_registry.abstract_store: Waiting up to 300 seconds for model version to finish creation. Model name: heart_disease_model_prod, version 1\n"
     ]
    }
   ],
   "source": [
    "from mlflow import MlflowClient\n",
    "\n",
    "client = MlflowClient()\n",
    "name = \"heart_disease_model_prod\"\n",
    "desc = \"This classifier detects if a person has a heart disease\"\n",
    "\n",
    "# Creamos el modelo productivo\n",
    "client.create_registered_model(name=name, description=desc)\n",
    "\n",
    "# Guardamos como tag los hiper-parametros en la version del modelo\n",
    "tags = model.get_params()\n",
    "tags[\"model\"] = type(model).__name__\n",
    "tags[\"f1-score\"] = f1_score\n",
    "\n",
    "# Guardamos la version del modelo\n",
    "result = client.create_model_version(\n",
    "    name=name,\n",
    "    source=model_uri,\n",
    "    run_id=model_uri.split(\"/\")[-3],\n",
    "    tags=tags\n",
    ")\n",
    "\n",
    "# Y creamos como la version con el alias de champion para poder levantarlo en nuestro\n",
    "# proceso de servicio del modelo on-line.\n",
    "client.set_registered_model_alias(name, \"champion\", result.version)"
   ]
  },
  {
   "cell_type": "code",
   "execution_count": null,
   "metadata": {
    "collapsed": false
   },
   "outputs": [],
   "source": []
  }
 ],
 "metadata": {
  "kernelspec": {
   "display_name": "Python 3",
   "language": "python",
   "name": "python3"
  },
  "language_info": {
   "codemirror_mode": {
    "name": "ipython",
    "version": 3
   },
   "file_extension": ".py",
   "mimetype": "text/x-python",
   "name": "python",
   "nbconvert_exporter": "python",
   "pygments_lexer": "ipython3",
   "version": "3.12.3"
  }
 },
 "nbformat": 4,
 "nbformat_minor": 2
}
